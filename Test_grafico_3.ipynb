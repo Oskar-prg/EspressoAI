{
  "nbformat": 4,
  "nbformat_minor": 0,
  "metadata": {
    "colab": {
      "provenance": [],
      "include_colab_link": true
    },
    "kernelspec": {
      "name": "python3",
      "display_name": "Python 3"
    },
    "language_info": {
      "name": "python"
    }
  },
  "cells": [
    {
      "cell_type": "markdown",
      "metadata": {
        "id": "view-in-github",
        "colab_type": "text"
      },
      "source": [
        "<a href=\"https://colab.research.google.com/github/Oskar-prg/EspressoAI/blob/main/Test_grafico_3.ipynb\" target=\"_parent\"><img src=\"https://colab.research.google.com/assets/colab-badge.svg\" alt=\"Open In Colab\"/></a>"
      ]
    },
    {
      "cell_type": "code",
      "execution_count": null,
      "metadata": {
        "id": "6vfXpiT5qhEp",
        "colab": {
          "base_uri": "https://localhost:8080/",
          "height": 224
        },
        "outputId": "d9a76d58-93f7-47f9-c20f-b535257a0016"
      },
      "outputs": [
        {
          "output_type": "stream",
          "name": "stdout",
          "text": [
            "Errore nel file JSON: Expecting property name enclosed in double quotes: line 14 column 13 (char 366)\n"
          ]
        },
        {
          "output_type": "error",
          "ename": "NameError",
          "evalue": "name 'data' is not defined",
          "traceback": [
            "\u001b[0;31m---------------------------------------------------------------------------\u001b[0m",
            "\u001b[0;31mNameError\u001b[0m                                 Traceback (most recent call last)",
            "\u001b[0;32m<ipython-input-42-e0d45c71f3ce>\u001b[0m in \u001b[0;36m<cell line: 17>\u001b[0;34m()\u001b[0m\n\u001b[1;32m     15\u001b[0m \u001b[0;34m\u001b[0m\u001b[0m\n\u001b[1;32m     16\u001b[0m \u001b[0;31m# Estrazione dei dati principali\u001b[0m\u001b[0;34m\u001b[0m\u001b[0;34m\u001b[0m\u001b[0m\n\u001b[0;32m---> 17\u001b[0;31m \u001b[0mphases\u001b[0m \u001b[0;34m=\u001b[0m \u001b[0mdata\u001b[0m\u001b[0;34m[\u001b[0m\u001b[0;34m\"phases\"\u001b[0m\u001b[0;34m]\u001b[0m\u001b[0;34m\u001b[0m\u001b[0;34m\u001b[0m\u001b[0m\n\u001b[0m\u001b[1;32m     18\u001b[0m \u001b[0mwater_temperature\u001b[0m \u001b[0;34m=\u001b[0m \u001b[0mdata\u001b[0m\u001b[0;34m[\u001b[0m\u001b[0;34m\"waterTemperature\"\u001b[0m\u001b[0;34m]\u001b[0m\u001b[0;34m\u001b[0m\u001b[0;34m\u001b[0m\u001b[0m\n\u001b[1;32m     19\u001b[0m \u001b[0;34m\u001b[0m\u001b[0m\n",
            "\u001b[0;31mNameError\u001b[0m: name 'data' is not defined"
          ]
        }
      ],
      "source": [
        "import json\n",
        "import matplotlib.pyplot as plt\n",
        "import numpy as np\n",
        "\n",
        "# Carica il file JSON\n",
        "with open(\n",
        "    \"/content/drive/MyDrive/Colab_Notebooks/Espresso/Visualization/Data/Espresso_diaz.json\",\n",
        "    \"r\",\n",
        ") as file:\n",
        "    try:\n",
        "        data = json.load(file)\n",
        "        print(\"File JSON valido.\")\n",
        "    except json.JSONDecodeError as e:\n",
        "        print(f\"Errore nel file JSON: {e}\")\n",
        "\n",
        "# Estrazione dei dati principali\n",
        "phases = data[\"phases\"]\n",
        "water_temperature = data[\"waterTemperature\"]\n",
        "\n",
        "# Inizializzazione delle liste per il grafico\n",
        "time = []\n",
        "target_pressure = []\n",
        "target_flow = []\n",
        "temperature = []\n",
        "\n",
        "# Simulazione dei dati per il grafico\n",
        "current_time = 0\n",
        "for phase in phases:\n",
        "    phase_type = phase[\"type\"]\n",
        "    stop_conditions = phase.get(\"stopConditions\", {})\n",
        "    if stop_conditions:\n",
        "        time_value = stop_conditions.get(\"time\", 0)\n",
        "        if isinstance(time_value, (int, float)):\n",
        "            duration = time_value / 1000  # Converti in secondi\n",
        "        else:\n",
        "            duration = 0  # Valore predefinito se il formato è invalido\n",
        "    else:\n",
        "        duration = 0  # Valore predefinito se stopConditions è None o mancante\n",
        "\n",
        "    t = np.linspace(current_time, current_time + duration, 100)\n",
        "\n",
        "    if phase_type == \"PRESSURE\":\n",
        "        target = phase[\"target\"][\"end\"]\n",
        "        curve = phase[\"target\"].get(\"curve\", \"INSTANT\")\n",
        "        if curve == \"INSTANT\":\n",
        "            tp = np.full_like(t, target)\n",
        "        elif curve == \"EASE_OUT\":\n",
        "            tp = np.linspace(\n",
        "                target_pressure[-1] if target_pressure else 0, target, len(t)\n",
        "            )\n",
        "        elif curve == \"EASE_IN_OUT\":\n",
        "            start = phase[\"target\"].get(\"start\", 0)\n",
        "            tp = np.linspace(start, target, len(t))\n",
        "        else:\n",
        "            tp = np.full_like(t, target)\n",
        "        target_pressure.extend(tp)\n",
        "\n",
        "    elif phase_type == \"FLOW\":\n",
        "        target = phase[\"target\"][\"end\"]\n",
        "        curve = phase[\"target\"].get(\"curve\", \"INSTANT\")\n",
        "        if curve == \"INSTANT\":\n",
        "            tf = np.full_like(t, target)\n",
        "        elif curve == \"EASE_OUT\":\n",
        "            tf = np.linspace(target_flow[-1] if target_flow else 0, target, len(t))\n",
        "        elif curve == \"EASE_IN_OUT\":\n",
        "            start = phase[\"target\"].get(\"start\", 0)\n",
        "            tf = np.linspace(start, target, len(t))\n",
        "        else:\n",
        "            tf = np.full_like(t, target)\n",
        "        target_flow.extend(tf)\n",
        "\n",
        "    time.extend(t)\n",
        "    temperature.extend(np.full_like(t, water_temperature))\n",
        "\n",
        "    current_time += duration\n",
        "\n",
        "# Creazione del grafico\n",
        "fig, ax1 = plt.subplots(figsize=(10, 6))\n",
        "\n",
        "# Grafico per target pressure (asse sinistro)\n",
        "ax1.set_xlabel(\"Time in Shot (seconds)\")\n",
        "ax1.set_ylabel(\"Target Pressure (bar)\", color=\"blue\")\n",
        "(target_pressure_line,) = ax1.plot(\n",
        "    time, target_pressure, label=\"Target Pressure\", linestyle=\"--\", color=\"blue\"\n",
        ")\n",
        "ax1.tick_params(axis=\"y\", labelcolor=\"blue\")\n",
        "ax1.set_ylim(0, 12)  # Scala massima per la pressione\n",
        "\n",
        "# Grafico per target flow (asse sinistro)\n",
        "(target_flow_line,) = ax1.plot(\n",
        "    time, target_flow, label=\"Target Flow\", linestyle=\"-\", color=\"green\"\n",
        ")\n",
        "\n",
        "# Grafico per la temperatura (asse destro)\n",
        "ax2 = ax1.twinx()\n",
        "ax2.set_ylabel(\"Temperature (°C)\", color=\"red\")\n",
        "(temperature_line,) = ax2.plot(time, temperature, label=\"Temperature (°C)\", color=\"red\")\n",
        "ax2.tick_params(axis=\"y\", labelcolor=\"red\")\n",
        "plt.yticks(np.arange(0, 101, 10))  # Scala massima per la temperatura\n",
        "\n",
        "# Configurazioni del grafico\n",
        "fig.tight_layout()  # Per migliorare la disposizione\n",
        "plt.title(\"Espresso Shot Data\")\n",
        "plt.grid()\n",
        "\n",
        "# Legenda\n",
        "lines = [target_pressure_line, target_flow_line, temperature_line]\n",
        "labels = [line.get_label() for line in lines]\n",
        "plt.legend(lines, labels, loc=\"upper center\", bbox_to_anchor=(0.5, -0.1), ncol=3)\n",
        "\n",
        "# Mostra il grafico\n",
        "plt.show()"
      ]
    },
    {
      "cell_type": "code",
      "source": [
        "from google.colab import drive\n",
        "drive.mount('/content/drive')"
      ],
      "metadata": {
        "id": "N_mLKVbK05c7",
        "colab": {
          "base_uri": "https://localhost:8080/"
        },
        "outputId": "cb5b75ee-a141-4734-a882-a7290d1faaa5"
      },
      "execution_count": null,
      "outputs": [
        {
          "output_type": "stream",
          "name": "stdout",
          "text": [
            "Drive already mounted at /content/drive; to attempt to forcibly remount, call drive.mount(\"/content/drive\", force_remount=True).\n"
          ]
        }
      ]
    },
    {
      "cell_type": "code",
      "source": [
        "from google.colab import drive\n",
        "drive.mount('/content/drive', force_remount=True)"
      ],
      "metadata": {
        "colab": {
          "base_uri": "https://localhost:8080/"
        },
        "id": "D_2PtFJFzaod",
        "outputId": "dab06a99-57e7-4c0a-df20-51fd9171a7c0"
      },
      "execution_count": null,
      "outputs": [
        {
          "output_type": "stream",
          "name": "stdout",
          "text": [
            "Mounted at /content/drive\n"
          ]
        }
      ]
    }
  ]
}